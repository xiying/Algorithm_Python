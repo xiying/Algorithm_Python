{
 "metadata": {
  "language_info": {
   "codemirror_mode": {
    "name": "ipython",
    "version": 3
   },
   "file_extension": ".py",
   "mimetype": "text/x-python",
   "name": "python",
   "nbconvert_exporter": "python",
   "pygments_lexer": "ipython3",
   "version": "3.9.1-final"
  },
  "orig_nbformat": 2,
  "kernelspec": {
   "name": "python391jvsc74a57bd0d7bc660a5e9c2a8e2002680c2407ea6395089201108d0d290e070a5fc2230c93",
   "display_name": "Python 3.9.1 64-bit"
  }
 },
 "nbformat": 4,
 "nbformat_minor": 2,
 "cells": [
  {
   "cell_type": "code",
   "execution_count": 8,
   "metadata": {},
   "outputs": [
    {
     "output_type": "execute_result",
     "data": {
      "text/plain": [
       "[6, 5, 4, 2, 1]"
      ]
     },
     "metadata": {},
     "execution_count": 8
    }
   ],
   "source": [
    "from functools import cmp_to_key\n",
    "\n",
    "L=[4,5,6,1,2]\n",
    "# sorted(L, key=lambda x: x)\n",
    "sorted(L,key=lambda x: x, reverse=True)\n",
    "# sorted(L,key=cmp_to_key(lambda x,y:y-x))"
   ]
  },
  {
   "cell_type": "code",
   "execution_count": 11,
   "metadata": {},
   "outputs": [
    {
     "output_type": "stream",
     "name": "stdout",
     "text": [
      "[1, 15, 20, 3]\n"
     ]
    }
   ],
   "source": [
    "import functools\n",
    "\n",
    "def cmp(a,b):\n",
    "    str1 = str(a)+str(b)\n",
    "    str2 = str(b)+str(a)\n",
    "    if str1 > str2:\n",
    "        return 1\n",
    "    elif str1 < str2:\n",
    "        return -1\n",
    "    else:\n",
    "        return 0\n",
    "\n",
    "if __name__ == '__main__':\n",
    "    nums = [1,3,20,15]\n",
    "    nums.sort(key=functools.cmp_to_key(cmp))\n",
    "    print(nums)"
   ]
  },
  {
   "cell_type": "code",
   "execution_count": 12,
   "metadata": {},
   "outputs": [
    {
     "output_type": "execute_result",
     "data": {
      "text/plain": [
       "[1, 2, 4, 5, 6]"
      ]
     },
     "metadata": {},
     "execution_count": 12
    }
   ],
   "source": [
    "from functools import cmp_to_key\n",
    "L=[4, 5, 6, 1, 2]\n",
    "sorted(L, key=cmp_to_key(lambda x,y: int(str(x) + str(y)) - int(str(y) + str(x))))"
   ]
  },
  {
   "cell_type": "code",
   "execution_count": null,
   "metadata": {},
   "outputs": [],
   "source": []
  }
 ]
}